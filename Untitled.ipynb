{
 "cells": [
  {
   "cell_type": "markdown",
   "metadata": {},
   "source": [
    "Задача 1: С использованием Pandas написать функцию, которая загружает указанные года и выводит ТОП-3 популярных имен. "
   ]
  },
  {
   "cell_type": "code",
   "execution_count": 1,
   "metadata": {},
   "outputs": [],
   "source": [
    "import pandas as pd"
   ]
  },
  {
   "cell_type": "code",
   "execution_count": 44,
   "metadata": {},
   "outputs": [
    {
     "name": "stdout",
     "output_type": "stream",
     "text": [
      "        Gender  Count\n",
      "Names                \n",
      "John         M   9655\n",
      "William      M   9532\n",
      "Mary         F   7065\n",
      "       Gender  Count\n",
      "Names               \n",
      "James       M  86224\n",
      "Robert      M  83559\n",
      "Linda       F  80431\n"
     ]
    }
   ],
   "source": [
    "def count_top3(years = []):\n",
    "    cont = []\n",
    "    for year in years:\n",
    "        df = pd.read_csv('names/yob{}.txt'.format(year), names = ['Names', 'Gender', 'Count'])\n",
    "        df.set_index('Names', inplace=True)\n",
    "        cont.append(df)\n",
    "    totaldata = pd.concat(cont)\n",
    "    totaldata.sort_values(by='Count', ascending=False, inplace=True)\n",
    "    print(totaldata.head(3))\n",
    "    \n",
    "count_top3([1880])  \n",
    "count_top3([1900, 1950, 2000])"
   ]
  },
  {
   "cell_type": "markdown",
   "metadata": {},
   "source": [
    "Задача 2: С использованием Pandas написать функцию, которая возвращает динамику изменения количества имен(детей) за указанные года в разрезе полов."
   ]
  },
  {
   "cell_type": "code",
   "execution_count": 40,
   "metadata": {
    "scrolled": false
   },
   "outputs": [
    {
     "name": "stdout",
     "output_type": "stream",
     "text": [
      "{'M': [150480, 1790437, 1963202], 'F': [299798, 1713065, 1815295]}\n"
     ]
    }
   ],
   "source": [
    "def count_dynamics(years = []):\n",
    "    dynamics = {'F': [],\n",
    "               'M': []}\n",
    "    for year in years:\n",
    "        df = pd.read_csv('names/yob{}.txt'.format(year), names = ['Names', 'Gender', 'Count'])\n",
    "        df.set_index('Names', inplace=True)\n",
    "        dfM = df[df['Gender'] == 'M']\n",
    "        dynamics['M'].append(dfM['Count'].sum())\n",
    "        dfF = df[df['Gender'] == 'F']\n",
    "        dynamics['F'].append(dfF['Count'].sum())\n",
    "    print(dynamics)\n",
    "        \n",
    "count_dynamics([1900, 1950, 2000])"
   ]
  },
  {
   "cell_type": "code",
   "execution_count": null,
   "metadata": {},
   "outputs": [],
   "source": []
  }
 ],
 "metadata": {
  "kernelspec": {
   "display_name": "Python 2",
   "language": "python",
   "name": "python2"
  },
  "language_info": {
   "codemirror_mode": {
    "name": "ipython",
    "version": 2
   },
   "file_extension": ".py",
   "mimetype": "text/x-python",
   "name": "python",
   "nbconvert_exporter": "python",
   "pygments_lexer": "ipython2",
   "version": "2.7.16"
  }
 },
 "nbformat": 4,
 "nbformat_minor": 2
}
